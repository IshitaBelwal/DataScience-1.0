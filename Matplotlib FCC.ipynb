{
 "cells": [
  {
   "cell_type": "markdown",
   "id": "2fc2b8ba",
   "metadata": {},
   "source": [
    "# Libraries"
   ]
  },
  {
   "cell_type": "code",
   "execution_count": 1,
   "id": "7f9cc8a9",
   "metadata": {},
   "outputs": [],
   "source": [
    "import pandas as pd\n",
    "import numpy as np\n",
    "import matplotlib.pyplot as plt"
   ]
  },
  {
   "cell_type": "markdown",
   "id": "e765f0a3",
   "metadata": {},
   "source": [
    "# Basic Graphs"
   ]
  },
  {
   "cell_type": "code",
   "execution_count": 15,
   "id": "077ba483",
   "metadata": {},
   "outputs": [
    {
     "data": {
      "image/png": "[encoded data removed]",
      "text/plain": [
       "<Figure size 432x288 with 1 Axes>"
      ]
     },
     "metadata": {
      "needs_background": "light"
     },
     "output_type": "display_data"
    }
   ],
   "source": [
    "x=[1,2,3]\n",
    "y=[5,6,7]\n",
    "plt.plot(x,y , label='2x', color='red', linewidth=3,)\n",
    "plt.title('first one', fontdict={'fontname':'DejaVu Sans','fontsize':20})\n",
    "\n",
    "plt.xticks([0,1,2,3,4,10])\n",
    "plt.yticks([4,5,6,7,8,20])\n",
    "plt.show()"
   ]
  },
  {
   "cell_type": "code",
   "execution_count": null,
   "id": "8eca170f",
   "metadata": {},
   "outputs": [],
   "source": []
  }
 ],
 "metadata": {
  "kernelspec": {
   "display_name": "Python 3",
   "language": "python",
   "name": "python3"
  },
  "language_info": {
   "codemirror_mode": {
    "name": "ipython",
    "version": 3
   },
   "file_extension": ".py",
   "mimetype": "text/x-python",
   "name": "python",
   "nbconvert_exporter": "python",
   "pygments_lexer": "ipython3",
   "version": "3.8.8"
  }
 },
 "nbformat": 4,
 "nbformat_minor": 5
}
